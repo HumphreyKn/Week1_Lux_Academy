{
 "cells": [
  {
   "attachments": {},
   "cell_type": "markdown",
   "metadata": {},
   "source": [
    "# Exploratory analysis of 2020 salary data for IT European Specialists."
   ]
  },
  {
   "cell_type": "code",
   "execution_count": 1,
   "metadata": {},
   "outputs": [],
   "source": [
    "#Importing the required libraries\n",
    "import pandas as pd\n",
    "import numpy as np\n",
    "import seaborn as sns\n",
    "import matplotlib.pyplot as plt\n"
   ]
  },
  {
   "attachments": {},
   "cell_type": "markdown",
   "metadata": {},
   "source": [
    "## Step 1: Importing the dataset"
   ]
  },
  {
   "cell_type": "code",
   "execution_count": 2,
   "metadata": {},
   "outputs": [],
   "source": [
    "salarySurvey2018= pd.read_csv(\"IT Salary Survey EU 2018.csv\")\n",
    "salarySurvey2019= pd.read_csv(\"T Salary Survey EU 2019.csv\")\n",
    "salarySurvey2020= pd.read_csv(\"IT Salary Survey EU  2020.csv\")"
   ]
  },
  {
   "attachments": {},
   "cell_type": "markdown",
   "metadata": {},
   "source": [
    "## Step 2: Data Exploration\n",
    "Let's start with the 2020 dataset."
   ]
  },
  {
   "cell_type": "code",
   "execution_count": 3,
   "metadata": {},
   "outputs": [
    {
     "data": {
      "text/html": [
       "<div>\n",
       "<style scoped>\n",
       "    .dataframe tbody tr th:only-of-type {\n",
       "        vertical-align: middle;\n",
       "    }\n",
       "\n",
       "    .dataframe tbody tr th {\n",
       "        vertical-align: top;\n",
       "    }\n",
       "\n",
       "    .dataframe thead th {\n",
       "        text-align: right;\n",
       "    }\n",
       "</style>\n",
       "<table border=\"1\" class=\"dataframe\">\n",
       "  <thead>\n",
       "    <tr style=\"text-align: right;\">\n",
       "      <th></th>\n",
       "      <th>Timestamp</th>\n",
       "      <th>Age</th>\n",
       "      <th>Gender</th>\n",
       "      <th>City</th>\n",
       "      <th>Position</th>\n",
       "      <th>Total years of experience</th>\n",
       "      <th>Years of experience in Germany</th>\n",
       "      <th>Seniority level</th>\n",
       "      <th>Your main technology / programming language</th>\n",
       "      <th>Other technologies/programming languages you use often</th>\n",
       "      <th>...</th>\n",
       "      <th>Annual bonus+stocks one year ago. Only answer if staying in same country</th>\n",
       "      <th>Number of vacation days</th>\n",
       "      <th>Employment status</th>\n",
       "      <th>Сontract duration</th>\n",
       "      <th>Main language at work</th>\n",
       "      <th>Company size</th>\n",
       "      <th>Company type</th>\n",
       "      <th>Have you lost your job due to the coronavirus outbreak?</th>\n",
       "      <th>Have you been forced to have a shorter working week (Kurzarbeit)? If yes, how many hours per week</th>\n",
       "      <th>Have you received additional monetary support from your employer due to Work From Home? If yes, how much in 2020 in EUR</th>\n",
       "    </tr>\n",
       "  </thead>\n",
       "  <tbody>\n",
       "    <tr>\n",
       "      <th>0</th>\n",
       "      <td>24/11/2020 11:14:15</td>\n",
       "      <td>26.0</td>\n",
       "      <td>Male</td>\n",
       "      <td>Munich</td>\n",
       "      <td>Software Engineer</td>\n",
       "      <td>5</td>\n",
       "      <td>3</td>\n",
       "      <td>Senior</td>\n",
       "      <td>TypeScript</td>\n",
       "      <td>Kotlin, Javascript / Typescript</td>\n",
       "      <td>...</td>\n",
       "      <td>10000</td>\n",
       "      <td>30</td>\n",
       "      <td>Full-time employee</td>\n",
       "      <td>Unlimited contract</td>\n",
       "      <td>English</td>\n",
       "      <td>51-100</td>\n",
       "      <td>Product</td>\n",
       "      <td>No</td>\n",
       "      <td>NaN</td>\n",
       "      <td>NaN</td>\n",
       "    </tr>\n",
       "    <tr>\n",
       "      <th>1</th>\n",
       "      <td>24/11/2020 11:14:16</td>\n",
       "      <td>26.0</td>\n",
       "      <td>Male</td>\n",
       "      <td>Berlin</td>\n",
       "      <td>Backend Developer</td>\n",
       "      <td>7</td>\n",
       "      <td>4</td>\n",
       "      <td>Senior</td>\n",
       "      <td>Ruby</td>\n",
       "      <td>NaN</td>\n",
       "      <td>...</td>\n",
       "      <td>5000</td>\n",
       "      <td>28</td>\n",
       "      <td>Full-time employee</td>\n",
       "      <td>Unlimited contract</td>\n",
       "      <td>English</td>\n",
       "      <td>101-1000</td>\n",
       "      <td>Product</td>\n",
       "      <td>No</td>\n",
       "      <td>NaN</td>\n",
       "      <td>NaN</td>\n",
       "    </tr>\n",
       "    <tr>\n",
       "      <th>2</th>\n",
       "      <td>24/11/2020 11:14:21</td>\n",
       "      <td>29.0</td>\n",
       "      <td>Male</td>\n",
       "      <td>Berlin</td>\n",
       "      <td>Software Engineer</td>\n",
       "      <td>12</td>\n",
       "      <td>6</td>\n",
       "      <td>Lead</td>\n",
       "      <td>Javascript / Typescript</td>\n",
       "      <td>Javascript / Typescript, Docker</td>\n",
       "      <td>...</td>\n",
       "      <td>100000</td>\n",
       "      <td>30</td>\n",
       "      <td>Self-employed (freelancer)</td>\n",
       "      <td>Temporary contract</td>\n",
       "      <td>English</td>\n",
       "      <td>101-1000</td>\n",
       "      <td>Product</td>\n",
       "      <td>Yes</td>\n",
       "      <td>NaN</td>\n",
       "      <td>NaN</td>\n",
       "    </tr>\n",
       "    <tr>\n",
       "      <th>3</th>\n",
       "      <td>24/11/2020 11:15:24</td>\n",
       "      <td>28.0</td>\n",
       "      <td>Male</td>\n",
       "      <td>Berlin</td>\n",
       "      <td>Frontend Developer</td>\n",
       "      <td>4</td>\n",
       "      <td>1</td>\n",
       "      <td>Junior</td>\n",
       "      <td>Javascript</td>\n",
       "      <td>NaN</td>\n",
       "      <td>...</td>\n",
       "      <td>NaN</td>\n",
       "      <td>24</td>\n",
       "      <td>Full-time employee</td>\n",
       "      <td>Unlimited contract</td>\n",
       "      <td>English</td>\n",
       "      <td>51-100</td>\n",
       "      <td>Startup</td>\n",
       "      <td>No</td>\n",
       "      <td>NaN</td>\n",
       "      <td>NaN</td>\n",
       "    </tr>\n",
       "    <tr>\n",
       "      <th>4</th>\n",
       "      <td>24/11/2020 11:15:46</td>\n",
       "      <td>37.0</td>\n",
       "      <td>Male</td>\n",
       "      <td>Berlin</td>\n",
       "      <td>Backend Developer</td>\n",
       "      <td>17</td>\n",
       "      <td>6</td>\n",
       "      <td>Senior</td>\n",
       "      <td>C# .NET</td>\n",
       "      <td>.NET, SQL, AWS, Docker</td>\n",
       "      <td>...</td>\n",
       "      <td>NaN</td>\n",
       "      <td>29</td>\n",
       "      <td>Full-time employee</td>\n",
       "      <td>Unlimited contract</td>\n",
       "      <td>English</td>\n",
       "      <td>101-1000</td>\n",
       "      <td>Product</td>\n",
       "      <td>No</td>\n",
       "      <td>NaN</td>\n",
       "      <td>NaN</td>\n",
       "    </tr>\n",
       "  </tbody>\n",
       "</table>\n",
       "<p>5 rows × 23 columns</p>\n",
       "</div>"
      ],
      "text/plain": [
       "             Timestamp   Age Gender    City           Position   \\\n",
       "0  24/11/2020 11:14:15  26.0   Male  Munich   Software Engineer   \n",
       "1  24/11/2020 11:14:16  26.0   Male  Berlin   Backend Developer   \n",
       "2  24/11/2020 11:14:21  29.0   Male  Berlin   Software Engineer   \n",
       "3  24/11/2020 11:15:24  28.0   Male  Berlin  Frontend Developer   \n",
       "4  24/11/2020 11:15:46  37.0   Male  Berlin   Backend Developer   \n",
       "\n",
       "  Total years of experience Years of experience in Germany Seniority level  \\\n",
       "0                         5                              3          Senior   \n",
       "1                         7                              4          Senior   \n",
       "2                        12                              6            Lead   \n",
       "3                         4                              1          Junior   \n",
       "4                        17                              6          Senior   \n",
       "\n",
       "  Your main technology / programming language  \\\n",
       "0                                  TypeScript   \n",
       "1                                        Ruby   \n",
       "2                     Javascript / Typescript   \n",
       "3                                  Javascript   \n",
       "4                                     C# .NET   \n",
       "\n",
       "  Other technologies/programming languages you use often  ...  \\\n",
       "0                    Kotlin, Javascript / Typescript      ...   \n",
       "1                                                NaN      ...   \n",
       "2                    Javascript / Typescript, Docker      ...   \n",
       "3                                                NaN      ...   \n",
       "4                             .NET, SQL, AWS, Docker      ...   \n",
       "\n",
       "   Annual bonus+stocks one year ago. Only answer if staying in same country  \\\n",
       "0                                              10000                          \n",
       "1                                               5000                          \n",
       "2                                             100000                          \n",
       "3                                                NaN                          \n",
       "4                                                NaN                          \n",
       "\n",
       "  Number of vacation days           Employment status   Сontract duration  \\\n",
       "0                      30          Full-time employee  Unlimited contract   \n",
       "1                      28          Full-time employee  Unlimited contract   \n",
       "2                      30  Self-employed (freelancer)  Temporary contract   \n",
       "3                      24          Full-time employee  Unlimited contract   \n",
       "4                      29          Full-time employee  Unlimited contract   \n",
       "\n",
       "  Main language at work Company size Company type  \\\n",
       "0               English       51-100      Product   \n",
       "1               English     101-1000      Product   \n",
       "2               English     101-1000      Product   \n",
       "3               English       51-100      Startup   \n",
       "4               English     101-1000      Product   \n",
       "\n",
       "  Have you lost your job due to the coronavirus outbreak?  \\\n",
       "0                                                 No        \n",
       "1                                                 No        \n",
       "2                                                Yes        \n",
       "3                                                 No        \n",
       "4                                                 No        \n",
       "\n",
       "  Have you been forced to have a shorter working week (Kurzarbeit)? If yes, how many hours per week  \\\n",
       "0                                                NaN                                                  \n",
       "1                                                NaN                                                  \n",
       "2                                                NaN                                                  \n",
       "3                                                NaN                                                  \n",
       "4                                                NaN                                                  \n",
       "\n",
       "  Have you received additional monetary support from your employer due to Work From Home? If yes, how much in 2020 in EUR  \n",
       "0                                                NaN                                                                       \n",
       "1                                                NaN                                                                       \n",
       "2                                                NaN                                                                       \n",
       "3                                                NaN                                                                       \n",
       "4                                                NaN                                                                       \n",
       "\n",
       "[5 rows x 23 columns]"
      ]
     },
     "execution_count": 3,
     "metadata": {},
     "output_type": "execute_result"
    }
   ],
   "source": [
    "# Display the first 5 observations\n",
    "salarySurvey2020.head()"
   ]
  },
  {
   "cell_type": "code",
   "execution_count": 4,
   "metadata": {},
   "outputs": [
    {
     "data": {
      "text/plain": [
       "Index(['Timestamp', 'Age', 'Gender', 'City', 'Position ',\n",
       "       'Total years of experience', 'Years of experience in Germany',\n",
       "       'Seniority level', 'Your main technology / programming language',\n",
       "       'Other technologies/programming languages you use often',\n",
       "       'Yearly brutto salary (without bonus and stocks) in EUR',\n",
       "       'Yearly bonus + stocks in EUR',\n",
       "       'Annual brutto salary (without bonus and stocks) one year ago. Only answer if staying in the same country',\n",
       "       'Annual bonus+stocks one year ago. Only answer if staying in same country',\n",
       "       'Number of vacation days', 'Employment status', 'Сontract duration',\n",
       "       'Main language at work', 'Company size', 'Company type',\n",
       "       'Have you lost your job due to the coronavirus outbreak?',\n",
       "       'Have you been forced to have a shorter working week (Kurzarbeit)? If yes, how many hours per week',\n",
       "       'Have you received additional monetary support from your employer due to Work From Home? If yes, how much in 2020 in EUR'],\n",
       "      dtype='object')"
      ]
     },
     "execution_count": 4,
     "metadata": {},
     "output_type": "execute_result"
    }
   ],
   "source": [
    "# Check the column names\n",
    "salarySurvey2020.columns"
   ]
  },
  {
   "attachments": {},
   "cell_type": "markdown",
   "metadata": {},
   "source": [
    "The column names are too long. This will make it hard to reference the column names during analysis. To solve this, we will rename the columns.\n",
    "\n",
    "### Renaming the columns"
   ]
  },
  {
   "cell_type": "code",
   "execution_count": 6,
   "metadata": {},
   "outputs": [
    {
     "data": {
      "text/html": [
       "<div>\n",
       "<style scoped>\n",
       "    .dataframe tbody tr th:only-of-type {\n",
       "        vertical-align: middle;\n",
       "    }\n",
       "\n",
       "    .dataframe tbody tr th {\n",
       "        vertical-align: top;\n",
       "    }\n",
       "\n",
       "    .dataframe thead th {\n",
       "        text-align: right;\n",
       "    }\n",
       "</style>\n",
       "<table border=\"1\" class=\"dataframe\">\n",
       "  <thead>\n",
       "    <tr style=\"text-align: right;\">\n",
       "      <th></th>\n",
       "      <th>Year</th>\n",
       "      <th>Age</th>\n",
       "      <th>Gender</th>\n",
       "      <th>City</th>\n",
       "      <th>Position</th>\n",
       "      <th>Years_of_experience</th>\n",
       "      <th>Germany_Experience</th>\n",
       "      <th>Seniority_level</th>\n",
       "      <th>Tech_program_language</th>\n",
       "      <th>Other_Language</th>\n",
       "      <th>...</th>\n",
       "      <th>Bonus_and_stocks_last_year</th>\n",
       "      <th>Vacation_days</th>\n",
       "      <th>Employment_status</th>\n",
       "      <th>Сontract_duration</th>\n",
       "      <th>Language</th>\n",
       "      <th>Company_size</th>\n",
       "      <th>Company_type</th>\n",
       "      <th>Job_loss_COVID</th>\n",
       "      <th>Kurzarbeit</th>\n",
       "      <th>Monetary_Support</th>\n",
       "    </tr>\n",
       "  </thead>\n",
       "  <tbody>\n",
       "    <tr>\n",
       "      <th>0</th>\n",
       "      <td>24/11/2020 11:14:15</td>\n",
       "      <td>26.0</td>\n",
       "      <td>Male</td>\n",
       "      <td>Munich</td>\n",
       "      <td>Software Engineer</td>\n",
       "      <td>5</td>\n",
       "      <td>3</td>\n",
       "      <td>Senior</td>\n",
       "      <td>TypeScript</td>\n",
       "      <td>Kotlin, Javascript / Typescript</td>\n",
       "      <td>...</td>\n",
       "      <td>10000</td>\n",
       "      <td>30</td>\n",
       "      <td>Full-time employee</td>\n",
       "      <td>Unlimited contract</td>\n",
       "      <td>English</td>\n",
       "      <td>51-100</td>\n",
       "      <td>Product</td>\n",
       "      <td>No</td>\n",
       "      <td>NaN</td>\n",
       "      <td>NaN</td>\n",
       "    </tr>\n",
       "    <tr>\n",
       "      <th>1</th>\n",
       "      <td>24/11/2020 11:14:16</td>\n",
       "      <td>26.0</td>\n",
       "      <td>Male</td>\n",
       "      <td>Berlin</td>\n",
       "      <td>Backend Developer</td>\n",
       "      <td>7</td>\n",
       "      <td>4</td>\n",
       "      <td>Senior</td>\n",
       "      <td>Ruby</td>\n",
       "      <td>NaN</td>\n",
       "      <td>...</td>\n",
       "      <td>5000</td>\n",
       "      <td>28</td>\n",
       "      <td>Full-time employee</td>\n",
       "      <td>Unlimited contract</td>\n",
       "      <td>English</td>\n",
       "      <td>101-1000</td>\n",
       "      <td>Product</td>\n",
       "      <td>No</td>\n",
       "      <td>NaN</td>\n",
       "      <td>NaN</td>\n",
       "    </tr>\n",
       "    <tr>\n",
       "      <th>2</th>\n",
       "      <td>24/11/2020 11:14:21</td>\n",
       "      <td>29.0</td>\n",
       "      <td>Male</td>\n",
       "      <td>Berlin</td>\n",
       "      <td>Software Engineer</td>\n",
       "      <td>12</td>\n",
       "      <td>6</td>\n",
       "      <td>Lead</td>\n",
       "      <td>Javascript / Typescript</td>\n",
       "      <td>Javascript / Typescript, Docker</td>\n",
       "      <td>...</td>\n",
       "      <td>100000</td>\n",
       "      <td>30</td>\n",
       "      <td>Self-employed (freelancer)</td>\n",
       "      <td>Temporary contract</td>\n",
       "      <td>English</td>\n",
       "      <td>101-1000</td>\n",
       "      <td>Product</td>\n",
       "      <td>Yes</td>\n",
       "      <td>NaN</td>\n",
       "      <td>NaN</td>\n",
       "    </tr>\n",
       "    <tr>\n",
       "      <th>3</th>\n",
       "      <td>24/11/2020 11:15:24</td>\n",
       "      <td>28.0</td>\n",
       "      <td>Male</td>\n",
       "      <td>Berlin</td>\n",
       "      <td>Frontend Developer</td>\n",
       "      <td>4</td>\n",
       "      <td>1</td>\n",
       "      <td>Junior</td>\n",
       "      <td>Javascript</td>\n",
       "      <td>NaN</td>\n",
       "      <td>...</td>\n",
       "      <td>NaN</td>\n",
       "      <td>24</td>\n",
       "      <td>Full-time employee</td>\n",
       "      <td>Unlimited contract</td>\n",
       "      <td>English</td>\n",
       "      <td>51-100</td>\n",
       "      <td>Startup</td>\n",
       "      <td>No</td>\n",
       "      <td>NaN</td>\n",
       "      <td>NaN</td>\n",
       "    </tr>\n",
       "    <tr>\n",
       "      <th>4</th>\n",
       "      <td>24/11/2020 11:15:46</td>\n",
       "      <td>37.0</td>\n",
       "      <td>Male</td>\n",
       "      <td>Berlin</td>\n",
       "      <td>Backend Developer</td>\n",
       "      <td>17</td>\n",
       "      <td>6</td>\n",
       "      <td>Senior</td>\n",
       "      <td>C# .NET</td>\n",
       "      <td>.NET, SQL, AWS, Docker</td>\n",
       "      <td>...</td>\n",
       "      <td>NaN</td>\n",
       "      <td>29</td>\n",
       "      <td>Full-time employee</td>\n",
       "      <td>Unlimited contract</td>\n",
       "      <td>English</td>\n",
       "      <td>101-1000</td>\n",
       "      <td>Product</td>\n",
       "      <td>No</td>\n",
       "      <td>NaN</td>\n",
       "      <td>NaN</td>\n",
       "    </tr>\n",
       "  </tbody>\n",
       "</table>\n",
       "<p>5 rows × 23 columns</p>\n",
       "</div>"
      ],
      "text/plain": [
       "                  Year   Age Gender    City            Position  \\\n",
       "0  24/11/2020 11:14:15  26.0   Male  Munich   Software Engineer   \n",
       "1  24/11/2020 11:14:16  26.0   Male  Berlin   Backend Developer   \n",
       "2  24/11/2020 11:14:21  29.0   Male  Berlin   Software Engineer   \n",
       "3  24/11/2020 11:15:24  28.0   Male  Berlin  Frontend Developer   \n",
       "4  24/11/2020 11:15:46  37.0   Male  Berlin   Backend Developer   \n",
       "\n",
       "  Years_of_experience Germany_Experience Seniority_level  \\\n",
       "0                   5                  3          Senior   \n",
       "1                   7                  4          Senior   \n",
       "2                  12                  6            Lead   \n",
       "3                   4                  1          Junior   \n",
       "4                  17                  6          Senior   \n",
       "\n",
       "     Tech_program_language                   Other_Language  ...  \\\n",
       "0               TypeScript  Kotlin, Javascript / Typescript  ...   \n",
       "1                     Ruby                              NaN  ...   \n",
       "2  Javascript / Typescript  Javascript / Typescript, Docker  ...   \n",
       "3               Javascript                              NaN  ...   \n",
       "4                  C# .NET           .NET, SQL, AWS, Docker  ...   \n",
       "\n",
       "   Bonus_and_stocks_last_year Vacation_days           Employment_status  \\\n",
       "0                       10000            30          Full-time employee   \n",
       "1                        5000            28          Full-time employee   \n",
       "2                      100000            30  Self-employed (freelancer)   \n",
       "3                         NaN            24          Full-time employee   \n",
       "4                         NaN            29          Full-time employee   \n",
       "\n",
       "    Сontract_duration Language Company_size Company_type Job_loss_COVID  \\\n",
       "0  Unlimited contract  English       51-100      Product             No   \n",
       "1  Unlimited contract  English     101-1000      Product             No   \n",
       "2  Temporary contract  English     101-1000      Product            Yes   \n",
       "3  Unlimited contract  English       51-100      Startup             No   \n",
       "4  Unlimited contract  English     101-1000      Product             No   \n",
       "\n",
       "  Kurzarbeit Monetary_Support  \n",
       "0        NaN              NaN  \n",
       "1        NaN              NaN  \n",
       "2        NaN              NaN  \n",
       "3        NaN              NaN  \n",
       "4        NaN              NaN  \n",
       "\n",
       "[5 rows x 23 columns]"
      ]
     },
     "execution_count": 6,
     "metadata": {},
     "output_type": "execute_result"
    }
   ],
   "source": [
    "salarySurvey2020.columns = [\"Year\", \"Age\", \"Gender\",\"City\",\"Position\",\"Years of experience\",\"Germany Experience\",\"Seniority level\",\"Tech program language\",\n",
    "                       \"Other Language\",\"Yearly salary\",\"Yearly bonus and stocks\", \"Salary one year ago\",\"Bonus and stocks last year\",\"Vacation days\",\n",
    "                       \"Employment_status\",\"Сontract_duration\",\"Language\",\"Company size\",\"Company type\",\"Job loss COVID\",\"Kurzarbeit\",\"Monetary Support\"]\n",
    "\n",
    "salarySurvey2020.columns = salarySurvey2020.columns.str.replace(' ', '_')\n",
    "salarySurvey2020.head()"
   ]
  },
  {
   "attachments": {},
   "cell_type": "markdown",
   "metadata": {},
   "source": [
    "Checking for missing data"
   ]
  },
  {
   "cell_type": "code",
   "execution_count": 8,
   "metadata": {},
   "outputs": [
    {
     "name": "stdout",
     "output_type": "stream",
     "text": [
      "(1253, 23)\n",
      "Year                            0\n",
      "Age                            27\n",
      "Gender                         10\n",
      "City                            0\n",
      "Position                        6\n",
      "Years_of_experience            16\n",
      "Germany_Experience             32\n",
      "Seniority_level                12\n",
      "Tech_program_language         127\n",
      "Other_Language                157\n",
      "Yearly_salary                   0\n",
      "Yearly_bonus_and_stocks       424\n",
      "Salary_one_year_ago           368\n",
      "Bonus_and_stocks_last_year    639\n",
      "Vacation_days                  68\n",
      "Employment_status              17\n",
      "Сontract_duration              29\n",
      "Language                       16\n",
      "Company_size                   18\n",
      "Company_type                   25\n",
      "Job_loss_COVID                 20\n",
      "Kurzarbeit                    880\n",
      "Monetary_Support              791\n",
      "dtype: int64\n"
     ]
    }
   ],
   "source": [
    "print(salarySurvey2020.shape)\n",
    "print(salarySurvey2020.isna().sum())"
   ]
  },
  {
   "attachments": {},
   "cell_type": "markdown",
   "metadata": {},
   "source": [
    "Removing duplicates and missing data in some selected rows"
   ]
  },
  {
   "cell_type": "code",
   "execution_count": 9,
   "metadata": {},
   "outputs": [
    {
     "data": {
      "text/plain": [
       "(860, 23)"
      ]
     },
     "execution_count": 9,
     "metadata": {},
     "output_type": "execute_result"
    }
   ],
   "source": [
    "salarySurvey2020= salarySurvey2020.dropna(subset=['Age','Gender','Position','Years_of_experience',\n",
    "                    'Seniority_level','Salary_one_year_ago','Language'])\n",
    "\n",
    "salarySurvey2020= salarySurvey2020.drop_duplicates()\n",
    "salarySurvey2020.shape"
   ]
  },
  {
   "attachments": {},
   "cell_type": "markdown",
   "metadata": {},
   "source": [
    "## Descriptive statistics: "
   ]
  },
  {
   "cell_type": "code",
   "execution_count": 23,
   "metadata": {},
   "outputs": [
    {
     "data": {
      "text/html": [
       "<div>\n",
       "<style scoped>\n",
       "    .dataframe tbody tr th:only-of-type {\n",
       "        vertical-align: middle;\n",
       "    }\n",
       "\n",
       "    .dataframe tbody tr th {\n",
       "        vertical-align: top;\n",
       "    }\n",
       "\n",
       "    .dataframe thead th {\n",
       "        text-align: right;\n",
       "    }\n",
       "</style>\n",
       "<table border=\"1\" class=\"dataframe\">\n",
       "  <thead>\n",
       "    <tr style=\"text-align: right;\">\n",
       "      <th></th>\n",
       "      <th>Age</th>\n",
       "      <th>Yearly_salary</th>\n",
       "      <th>Salary_one_year_ago</th>\n",
       "      <th>Kurzarbeit</th>\n",
       "    </tr>\n",
       "  </thead>\n",
       "  <tbody>\n",
       "    <tr>\n",
       "      <th>count</th>\n",
       "      <td>860.000000</td>\n",
       "      <td>8.600000e+02</td>\n",
       "      <td>8.600000e+02</td>\n",
       "      <td>285.000000</td>\n",
       "    </tr>\n",
       "    <tr>\n",
       "      <th>mean</th>\n",
       "      <td>33.072093</td>\n",
       "      <td>6.550749e+05</td>\n",
       "      <td>6.485839e+05</td>\n",
       "      <td>13.233333</td>\n",
       "    </tr>\n",
       "    <tr>\n",
       "      <th>std</th>\n",
       "      <td>5.482062</td>\n",
       "      <td>1.704738e+07</td>\n",
       "      <td>1.704759e+07</td>\n",
       "      <td>15.495880</td>\n",
       "    </tr>\n",
       "    <tr>\n",
       "      <th>min</th>\n",
       "      <td>22.000000</td>\n",
       "      <td>1.200000e+04</td>\n",
       "      <td>1.100000e+04</td>\n",
       "      <td>0.000000</td>\n",
       "    </tr>\n",
       "    <tr>\n",
       "      <th>25%</th>\n",
       "      <td>29.000000</td>\n",
       "      <td>6.000000e+04</td>\n",
       "      <td>5.500000e+04</td>\n",
       "      <td>0.000000</td>\n",
       "    </tr>\n",
       "    <tr>\n",
       "      <th>50%</th>\n",
       "      <td>32.000000</td>\n",
       "      <td>7.020000e+04</td>\n",
       "      <td>6.500000e+04</td>\n",
       "      <td>0.000000</td>\n",
       "    </tr>\n",
       "    <tr>\n",
       "      <th>75%</th>\n",
       "      <td>36.000000</td>\n",
       "      <td>8.200000e+04</td>\n",
       "      <td>7.500000e+04</td>\n",
       "      <td>30.000000</td>\n",
       "    </tr>\n",
       "    <tr>\n",
       "      <th>max</th>\n",
       "      <td>66.000000</td>\n",
       "      <td>5.000000e+08</td>\n",
       "      <td>5.000000e+08</td>\n",
       "      <td>40.000000</td>\n",
       "    </tr>\n",
       "  </tbody>\n",
       "</table>\n",
       "</div>"
      ],
      "text/plain": [
       "              Age  Yearly_salary  Salary_one_year_ago  Kurzarbeit\n",
       "count  860.000000   8.600000e+02         8.600000e+02  285.000000\n",
       "mean    33.072093   6.550749e+05         6.485839e+05   13.233333\n",
       "std      5.482062   1.704738e+07         1.704759e+07   15.495880\n",
       "min     22.000000   1.200000e+04         1.100000e+04    0.000000\n",
       "25%     29.000000   6.000000e+04         5.500000e+04    0.000000\n",
       "50%     32.000000   7.020000e+04         6.500000e+04    0.000000\n",
       "75%     36.000000   8.200000e+04         7.500000e+04   30.000000\n",
       "max     66.000000   5.000000e+08         5.000000e+08   40.000000"
      ]
     },
     "execution_count": 23,
     "metadata": {},
     "output_type": "execute_result"
    }
   ],
   "source": [
    "#salarySurvey2020['Years_of_experience']= salarySurvey2020['Years_of_experience'].astype(int)\n",
    "salarySurvey2020.describe()"
   ]
  },
  {
   "cell_type": "code",
   "execution_count": 13,
   "metadata": {},
   "outputs": [
    {
     "data": {
      "text/plain": [
       "Year                           object\n",
       "Age                           float64\n",
       "Gender                         object\n",
       "City                           object\n",
       "Position                       object\n",
       "Years_of_experience            object\n",
       "Germany_Experience             object\n",
       "Seniority_level                object\n",
       "Tech_program_language          object\n",
       "Other_Language                 object\n",
       "Yearly_salary                 float64\n",
       "Yearly_bonus_and_stocks        object\n",
       "Salary_one_year_ago           float64\n",
       "Bonus_and_stocks_last_year     object\n",
       "Vacation_days                  object\n",
       "Employment_status              object\n",
       "Сontract_duration              object\n",
       "Language                       object\n",
       "Company_size                   object\n",
       "Company_type                   object\n",
       "Job_loss_COVID                 object\n",
       "Kurzarbeit                    float64\n",
       "Monetary_Support               object\n",
       "dtype: object"
      ]
     },
     "execution_count": 13,
     "metadata": {},
     "output_type": "execute_result"
    }
   ],
   "source": [
    "salarySurvey2020.dtypes"
   ]
  },
  {
   "attachments": {},
   "cell_type": "markdown",
   "metadata": {},
   "source": [
    "## Data visualization"
   ]
  },
  {
   "attachments": {},
   "cell_type": "markdown",
   "metadata": {},
   "source": [
    "### Age"
   ]
  },
  {
   "cell_type": "code",
   "execution_count": 21,
   "metadata": {},
   "outputs": [],
   "source": [
    "import plotly.express as px\n",
    "fig= px.histogram(\n",
    "    data_frame= salarySurvey2020,\n",
    "    x= \"Age\",\n",
    "    color=\"Gender\",\n",
    "    title=\"Distribution of Age for all genders\"\n",
    "\n",
    ")"
   ]
  },
  {
   "cell_type": "code",
   "execution_count": 22,
   "metadata": {},
   "outputs": [
    {
     "data": {
      "application/vnd.plotly.v1+json": {
       "config": {
        "plotlyServerURL": "https://plot.ly"
       },
       "data": [
        {
         "alignmentgroup": "True",
         "bingroup": "x",
         "hovertemplate": "Gender=Male<br>Age=%{x}<br>count=%{y}<extra></extra>",
         "legendgroup": "Male",
         "marker": {
          "color": "#636efa",
          "pattern": {
           "shape": ""
          }
         },
         "name": "Male",
         "offsetgroup": "Male",
         "orientation": "v",
         "showlegend": true,
         "type": "histogram",
         "x": [
          26,
          26,
          29,
          37,
          32,
          24,
          29,
          35,
          28,
          31,
          29,
          41,
          27,
          34,
          34,
          34,
          59,
          36,
          38,
          24,
          37,
          29,
          39,
          33,
          30,
          28,
          38,
          29,
          49,
          32,
          30,
          48,
          32,
          31,
          35,
          32,
          44,
          35,
          29,
          66,
          28,
          34,
          34,
          32,
          32,
          45,
          28,
          29,
          36,
          39,
          29,
          31,
          30,
          27,
          26,
          30,
          38,
          43,
          33,
          24,
          29,
          29,
          30,
          28,
          32,
          30,
          26,
          31,
          37,
          25,
          36,
          27,
          35,
          37,
          26,
          33,
          33,
          24,
          31,
          28,
          28,
          33,
          41,
          37,
          30,
          36,
          40,
          37,
          35,
          42,
          34,
          30,
          34,
          35,
          35,
          25,
          33,
          38,
          33,
          34,
          32,
          31,
          28,
          46,
          31,
          40,
          46,
          33,
          33,
          34,
          36,
          32,
          46,
          31,
          46,
          26,
          31,
          35,
          33,
          36,
          36,
          38,
          32,
          29,
          30,
          35,
          29,
          43,
          38,
          26,
          34,
          30,
          34,
          45,
          32,
          24,
          25,
          29,
          32,
          30,
          33,
          26,
          34,
          37,
          28,
          35,
          31,
          39,
          39,
          29,
          33,
          31,
          37,
          34,
          30,
          34,
          33,
          43,
          34,
          29,
          37,
          41,
          33,
          40,
          38,
          29,
          39,
          38,
          42,
          38,
          29,
          30,
          32,
          41,
          34,
          45,
          34,
          32,
          65,
          33,
          34,
          30,
          35,
          34,
          34,
          38,
          31,
          34,
          37,
          44,
          30,
          26,
          46,
          33,
          27,
          38,
          29,
          29,
          33,
          34,
          31,
          33,
          47,
          29,
          28,
          25,
          45,
          40,
          27,
          27,
          38,
          30,
          29,
          37,
          28,
          28,
          33,
          38,
          40,
          29,
          44,
          35,
          32,
          46,
          32,
          34,
          26,
          41,
          35,
          24,
          35,
          31,
          37,
          30,
          33,
          37,
          36,
          38,
          23,
          39,
          50,
          35,
          30,
          24,
          28,
          37,
          33,
          30,
          31,
          34,
          24,
          39,
          42,
          26,
          27,
          27,
          32,
          31,
          29,
          38,
          25,
          24,
          27,
          30,
          46,
          30,
          40,
          28,
          38,
          32,
          37,
          33,
          36,
          27,
          28,
          34,
          29,
          38,
          23,
          30,
          32,
          28,
          31,
          29,
          42,
          40,
          27,
          29,
          37,
          35,
          39,
          38,
          31,
          30,
          33,
          31,
          33,
          43,
          36,
          33,
          33,
          33,
          40,
          40,
          37,
          39,
          25,
          28,
          39,
          37,
          32,
          28,
          35,
          26,
          29,
          36,
          26,
          28,
          40,
          29,
          32,
          28,
          27,
          33,
          34,
          31,
          31,
          31,
          27,
          31,
          29,
          35,
          31,
          32,
          35,
          28,
          30,
          26,
          25,
          27,
          33,
          38,
          31,
          29,
          30,
          30,
          36,
          32,
          29,
          34,
          30,
          40,
          35,
          31,
          38,
          39,
          35,
          36,
          41,
          41,
          33,
          31,
          34,
          45,
          37,
          31,
          32,
          36,
          40,
          35,
          37,
          33,
          33,
          31,
          28,
          31,
          40,
          35,
          35,
          41,
          33,
          33,
          38,
          35,
          49,
          32,
          31,
          28,
          27,
          29,
          28,
          38,
          29,
          30,
          31,
          37,
          32,
          40,
          30,
          30,
          32,
          32,
          34,
          43,
          33,
          33,
          51,
          35,
          25,
          32,
          32,
          26,
          25,
          28,
          28,
          35,
          38,
          36,
          43,
          38,
          35,
          43,
          37,
          30,
          29,
          41,
          38,
          35,
          41,
          29,
          32,
          33,
          26,
          43,
          28,
          36,
          38,
          30,
          30,
          28,
          35,
          33,
          25,
          40,
          39,
          24,
          39,
          33,
          32,
          34,
          30,
          31,
          33,
          36,
          39,
          34,
          26,
          42,
          31,
          33,
          28,
          33,
          35,
          35,
          38,
          30,
          28,
          32,
          31,
          33,
          30,
          37,
          42,
          28,
          31,
          38,
          35,
          37,
          37,
          34,
          37,
          46,
          30,
          34,
          35,
          31,
          24,
          28,
          30,
          37,
          39,
          30,
          44,
          26,
          26,
          40,
          28,
          28,
          29,
          29,
          36,
          37,
          35,
          36,
          33,
          30,
          36,
          34,
          34,
          31,
          33,
          31,
          33,
          36,
          31,
          30,
          34,
          35,
          33,
          39,
          34,
          38,
          34,
          36,
          27,
          38,
          34,
          29,
          36,
          43,
          36,
          26,
          26,
          34,
          30,
          35,
          26,
          26,
          23,
          41,
          28,
          35,
          26,
          30,
          24,
          35,
          27,
          31,
          29,
          29,
          34,
          35,
          54,
          31,
          36,
          28,
          36,
          26,
          36,
          33,
          35,
          36,
          35,
          29,
          29,
          32,
          30,
          30,
          30,
          30,
          31,
          28,
          29,
          34,
          34,
          40,
          29,
          27,
          38,
          32,
          37,
          29,
          40,
          39,
          32,
          30,
          25,
          30,
          32,
          39,
          38,
          22,
          32,
          34,
          36,
          28,
          35,
          28,
          36,
          30,
          30,
          28,
          29,
          26,
          31,
          36,
          31,
          36,
          30,
          35,
          30,
          28,
          42,
          34,
          31,
          32,
          36,
          26,
          34,
          38,
          37,
          31,
          38,
          24,
          25,
          45,
          45,
          35,
          31,
          37,
          27,
          32,
          35,
          36,
          32,
          22,
          33,
          35,
          30,
          40,
          32,
          33,
          31,
          30,
          32,
          34,
          29,
          29,
          30,
          35,
          27,
          38,
          34,
          35,
          35,
          29,
          35,
          34,
          42,
          32,
          35,
          43,
          41,
          33,
          44,
          28,
          28,
          26,
          39,
          32,
          56,
          30,
          27,
          27,
          28,
          32,
          32,
          30,
          36,
          33,
          32,
          34,
          54,
          28,
          38,
          36,
          36,
          33,
          33,
          36,
          31,
          36,
          37,
          30,
          30,
          27,
          35,
          26,
          29,
          31,
          36,
          29,
          30,
          29,
          34,
          30,
          34,
          27,
          35,
          44,
          34,
          45,
          31,
          24,
          34,
          28,
          35,
          39,
          37,
          38,
          32,
          32,
          28,
          38,
          34,
          31,
          33,
          39,
          26,
          26
         ],
         "xaxis": "x",
         "yaxis": "y"
        },
        {
         "alignmentgroup": "True",
         "bingroup": "x",
         "hovertemplate": "Gender=Female<br>Age=%{x}<br>count=%{y}<extra></extra>",
         "legendgroup": "Female",
         "marker": {
          "color": "#EF553B",
          "pattern": {
           "shape": ""
          }
         },
         "name": "Female",
         "offsetgroup": "Female",
         "orientation": "v",
         "showlegend": true,
         "type": "histogram",
         "x": [
          32,
          28,
          33,
          38,
          28,
          29,
          39,
          26,
          31,
          32,
          35,
          31,
          38,
          28,
          30,
          31,
          40,
          36,
          33,
          30,
          32,
          30,
          36,
          26,
          31,
          30,
          31,
          32,
          33,
          33,
          35,
          34,
          29,
          36,
          41,
          32,
          27,
          28,
          31,
          32,
          34,
          27,
          42,
          40,
          33,
          35,
          31,
          40,
          36,
          27,
          36,
          29,
          28,
          30,
          37,
          26,
          22,
          28,
          30,
          32,
          45,
          25,
          36,
          32,
          27,
          28,
          32,
          28,
          25,
          27,
          31,
          26,
          35,
          35,
          42,
          32,
          42,
          24,
          29,
          31,
          39,
          34,
          35,
          33,
          26,
          26,
          38,
          30,
          29,
          27,
          35,
          32,
          39,
          25,
          30,
          30,
          38,
          30,
          33,
          27,
          32,
          30,
          28,
          23,
          26,
          34,
          40,
          36,
          32,
          28,
          33,
          39,
          30,
          25,
          28,
          32,
          27,
          31,
          37,
          26,
          34,
          27,
          32,
          35,
          28,
          33,
          30,
          33,
          31
         ],
         "xaxis": "x",
         "yaxis": "y"
        },
        {
         "alignmentgroup": "True",
         "bingroup": "x",
         "hovertemplate": "Gender=Diverse<br>Age=%{x}<br>count=%{y}<extra></extra>",
         "legendgroup": "Diverse",
         "marker": {
          "color": "#00cc96",
          "pattern": {
           "shape": ""
          }
         },
         "name": "Diverse",
         "offsetgroup": "Diverse",
         "orientation": "v",
         "showlegend": true,
         "type": "histogram",
         "x": [
          22
         ],
         "xaxis": "x",
         "yaxis": "y"
        }
       ],
       "layout": {
        "barmode": "relative",
        "legend": {
         "title": {
          "text": "Gender"
         },
         "tracegroupgap": 0
        },
        "template": {
         "data": {
          "bar": [
           {
            "error_x": {
             "color": "#2a3f5f"
            },
            "error_y": {
             "color": "#2a3f5f"
            },
            "marker": {
             "line": {
              "color": "#E5ECF6",
              "width": 0.5
             },
             "pattern": {
              "fillmode": "overlay",
              "size": 10,
              "solidity": 0.2
             }
            },
            "type": "bar"
           }
          ],
          "barpolar": [
           {
            "marker": {
             "line": {
              "color": "#E5ECF6",
              "width": 0.5
             },
             "pattern": {
              "fillmode": "overlay",
              "size": 10,
              "solidity": 0.2
             }
            },
            "type": "barpolar"
           }
          ],
          "carpet": [
           {
            "aaxis": {
             "endlinecolor": "#2a3f5f",
             "gridcolor": "white",
             "linecolor": "white",
             "minorgridcolor": "white",
             "startlinecolor": "#2a3f5f"
            },
            "baxis": {
             "endlinecolor": "#2a3f5f",
             "gridcolor": "white",
             "linecolor": "white",
             "minorgridcolor": "white",
             "startlinecolor": "#2a3f5f"
            },
            "type": "carpet"
           }
          ],
          "choropleth": [
           {
            "colorbar": {
             "outlinewidth": 0,
             "ticks": ""
            },
            "type": "choropleth"
           }
          ],
          "contour": [
           {
            "colorbar": {
             "outlinewidth": 0,
             "ticks": ""
            },
            "colorscale": [
             [
              0,
              "#0d0887"
             ],
             [
              0.1111111111111111,
              "#46039f"
             ],
             [
              0.2222222222222222,
              "#7201a8"
             ],
             [
              0.3333333333333333,
              "#9c179e"
             ],
             [
              0.4444444444444444,
              "#bd3786"
             ],
             [
              0.5555555555555556,
              "#d8576b"
             ],
             [
              0.6666666666666666,
              "#ed7953"
             ],
             [
              0.7777777777777778,
              "#fb9f3a"
             ],
             [
              0.8888888888888888,
              "#fdca26"
             ],
             [
              1,
              "#f0f921"
             ]
            ],
            "type": "contour"
           }
          ],
          "contourcarpet": [
           {
            "colorbar": {
             "outlinewidth": 0,
             "ticks": ""
            },
            "type": "contourcarpet"
           }
          ],
          "heatmap": [
           {
            "colorbar": {
             "outlinewidth": 0,
             "ticks": ""
            },
            "colorscale": [
             [
              0,
              "#0d0887"
             ],
             [
              0.1111111111111111,
              "#46039f"
             ],
             [
              0.2222222222222222,
              "#7201a8"
             ],
             [
              0.3333333333333333,
              "#9c179e"
             ],
             [
              0.4444444444444444,
              "#bd3786"
             ],
             [
              0.5555555555555556,
              "#d8576b"
             ],
             [
              0.6666666666666666,
              "#ed7953"
             ],
             [
              0.7777777777777778,
              "#fb9f3a"
             ],
             [
              0.8888888888888888,
              "#fdca26"
             ],
             [
              1,
              "#f0f921"
             ]
            ],
            "type": "heatmap"
           }
          ],
          "heatmapgl": [
           {
            "colorbar": {
             "outlinewidth": 0,
             "ticks": ""
            },
            "colorscale": [
             [
              0,
              "#0d0887"
             ],
             [
              0.1111111111111111,
              "#46039f"
             ],
             [
              0.2222222222222222,
              "#7201a8"
             ],
             [
              0.3333333333333333,
              "#9c179e"
             ],
             [
              0.4444444444444444,
              "#bd3786"
             ],
             [
              0.5555555555555556,
              "#d8576b"
             ],
             [
              0.6666666666666666,
              "#ed7953"
             ],
             [
              0.7777777777777778,
              "#fb9f3a"
             ],
             [
              0.8888888888888888,
              "#fdca26"
             ],
             [
              1,
              "#f0f921"
             ]
            ],
            "type": "heatmapgl"
           }
          ],
          "histogram": [
           {
            "marker": {
             "pattern": {
              "fillmode": "overlay",
              "size": 10,
              "solidity": 0.2
             }
            },
            "type": "histogram"
           }
          ],
          "histogram2d": [
           {
            "colorbar": {
             "outlinewidth": 0,
             "ticks": ""
            },
            "colorscale": [
             [
              0,
              "#0d0887"
             ],
             [
              0.1111111111111111,
              "#46039f"
             ],
             [
              0.2222222222222222,
              "#7201a8"
             ],
             [
              0.3333333333333333,
              "#9c179e"
             ],
             [
              0.4444444444444444,
              "#bd3786"
             ],
             [
              0.5555555555555556,
              "#d8576b"
             ],
             [
              0.6666666666666666,
              "#ed7953"
             ],
             [
              0.7777777777777778,
              "#fb9f3a"
             ],
             [
              0.8888888888888888,
              "#fdca26"
             ],
             [
              1,
              "#f0f921"
             ]
            ],
            "type": "histogram2d"
           }
          ],
          "histogram2dcontour": [
           {
            "colorbar": {
             "outlinewidth": 0,
             "ticks": ""
            },
            "colorscale": [
             [
              0,
              "#0d0887"
             ],
             [
              0.1111111111111111,
              "#46039f"
             ],
             [
              0.2222222222222222,
              "#7201a8"
             ],
             [
              0.3333333333333333,
              "#9c179e"
             ],
             [
              0.4444444444444444,
              "#bd3786"
             ],
             [
              0.5555555555555556,
              "#d8576b"
             ],
             [
              0.6666666666666666,
              "#ed7953"
             ],
             [
              0.7777777777777778,
              "#fb9f3a"
             ],
             [
              0.8888888888888888,
              "#fdca26"
             ],
             [
              1,
              "#f0f921"
             ]
            ],
            "type": "histogram2dcontour"
           }
          ],
          "mesh3d": [
           {
            "colorbar": {
             "outlinewidth": 0,
             "ticks": ""
            },
            "type": "mesh3d"
           }
          ],
          "parcoords": [
           {
            "line": {
             "colorbar": {
              "outlinewidth": 0,
              "ticks": ""
             }
            },
            "type": "parcoords"
           }
          ],
          "pie": [
           {
            "automargin": true,
            "type": "pie"
           }
          ],
          "scatter": [
           {
            "fillpattern": {
             "fillmode": "overlay",
             "size": 10,
             "solidity": 0.2
            },
            "type": "scatter"
           }
          ],
          "scatter3d": [
           {
            "line": {
             "colorbar": {
              "outlinewidth": 0,
              "ticks": ""
             }
            },
            "marker": {
             "colorbar": {
              "outlinewidth": 0,
              "ticks": ""
             }
            },
            "type": "scatter3d"
           }
          ],
          "scattercarpet": [
           {
            "marker": {
             "colorbar": {
              "outlinewidth": 0,
              "ticks": ""
             }
            },
            "type": "scattercarpet"
           }
          ],
          "scattergeo": [
           {
            "marker": {
             "colorbar": {
              "outlinewidth": 0,
              "ticks": ""
             }
            },
            "type": "scattergeo"
           }
          ],
          "scattergl": [
           {
            "marker": {
             "colorbar": {
              "outlinewidth": 0,
              "ticks": ""
             }
            },
            "type": "scattergl"
           }
          ],
          "scattermapbox": [
           {
            "marker": {
             "colorbar": {
              "outlinewidth": 0,
              "ticks": ""
             }
            },
            "type": "scattermapbox"
           }
          ],
          "scatterpolar": [
           {
            "marker": {
             "colorbar": {
              "outlinewidth": 0,
              "ticks": ""
             }
            },
            "type": "scatterpolar"
           }
          ],
          "scatterpolargl": [
           {
            "marker": {
             "colorbar": {
              "outlinewidth": 0,
              "ticks": ""
             }
            },
            "type": "scatterpolargl"
           }
          ],
          "scatterternary": [
           {
            "marker": {
             "colorbar": {
              "outlinewidth": 0,
              "ticks": ""
             }
            },
            "type": "scatterternary"
           }
          ],
          "surface": [
           {
            "colorbar": {
             "outlinewidth": 0,
             "ticks": ""
            },
            "colorscale": [
             [
              0,
              "#0d0887"
             ],
             [
              0.1111111111111111,
              "#46039f"
             ],
             [
              0.2222222222222222,
              "#7201a8"
             ],
             [
              0.3333333333333333,
              "#9c179e"
             ],
             [
              0.4444444444444444,
              "#bd3786"
             ],
             [
              0.5555555555555556,
              "#d8576b"
             ],
             [
              0.6666666666666666,
              "#ed7953"
             ],
             [
              0.7777777777777778,
              "#fb9f3a"
             ],
             [
              0.8888888888888888,
              "#fdca26"
             ],
             [
              1,
              "#f0f921"
             ]
            ],
            "type": "surface"
           }
          ],
          "table": [
           {
            "cells": {
             "fill": {
              "color": "#EBF0F8"
             },
             "line": {
              "color": "white"
             }
            },
            "header": {
             "fill": {
              "color": "#C8D4E3"
             },
             "line": {
              "color": "white"
             }
            },
            "type": "table"
           }
          ]
         },
         "layout": {
          "annotationdefaults": {
           "arrowcolor": "#2a3f5f",
           "arrowhead": 0,
           "arrowwidth": 1
          },
          "autotypenumbers": "strict",
          "coloraxis": {
           "colorbar": {
            "outlinewidth": 0,
            "ticks": ""
           }
          },
          "colorscale": {
           "diverging": [
            [
             0,
             "#8e0152"
            ],
            [
             0.1,
             "#c51b7d"
            ],
            [
             0.2,
             "#de77ae"
            ],
            [
             0.3,
             "#f1b6da"
            ],
            [
             0.4,
             "#fde0ef"
            ],
            [
             0.5,
             "#f7f7f7"
            ],
            [
             0.6,
             "#e6f5d0"
            ],
            [
             0.7,
             "#b8e186"
            ],
            [
             0.8,
             "#7fbc41"
            ],
            [
             0.9,
             "#4d9221"
            ],
            [
             1,
             "#276419"
            ]
           ],
           "sequential": [
            [
             0,
             "#0d0887"
            ],
            [
             0.1111111111111111,
             "#46039f"
            ],
            [
             0.2222222222222222,
             "#7201a8"
            ],
            [
             0.3333333333333333,
             "#9c179e"
            ],
            [
             0.4444444444444444,
             "#bd3786"
            ],
            [
             0.5555555555555556,
             "#d8576b"
            ],
            [
             0.6666666666666666,
             "#ed7953"
            ],
            [
             0.7777777777777778,
             "#fb9f3a"
            ],
            [
             0.8888888888888888,
             "#fdca26"
            ],
            [
             1,
             "#f0f921"
            ]
           ],
           "sequentialminus": [
            [
             0,
             "#0d0887"
            ],
            [
             0.1111111111111111,
             "#46039f"
            ],
            [
             0.2222222222222222,
             "#7201a8"
            ],
            [
             0.3333333333333333,
             "#9c179e"
            ],
            [
             0.4444444444444444,
             "#bd3786"
            ],
            [
             0.5555555555555556,
             "#d8576b"
            ],
            [
             0.6666666666666666,
             "#ed7953"
            ],
            [
             0.7777777777777778,
             "#fb9f3a"
            ],
            [
             0.8888888888888888,
             "#fdca26"
            ],
            [
             1,
             "#f0f921"
            ]
           ]
          },
          "colorway": [
           "#636efa",
           "#EF553B",
           "#00cc96",
           "#ab63fa",
           "#FFA15A",
           "#19d3f3",
           "#FF6692",
           "#B6E880",
           "#FF97FF",
           "#FECB52"
          ],
          "font": {
           "color": "#2a3f5f"
          },
          "geo": {
           "bgcolor": "white",
           "lakecolor": "white",
           "landcolor": "#E5ECF6",
           "showlakes": true,
           "showland": true,
           "subunitcolor": "white"
          },
          "hoverlabel": {
           "align": "left"
          },
          "hovermode": "closest",
          "mapbox": {
           "style": "light"
          },
          "paper_bgcolor": "white",
          "plot_bgcolor": "#E5ECF6",
          "polar": {
           "angularaxis": {
            "gridcolor": "white",
            "linecolor": "white",
            "ticks": ""
           },
           "bgcolor": "#E5ECF6",
           "radialaxis": {
            "gridcolor": "white",
            "linecolor": "white",
            "ticks": ""
           }
          },
          "scene": {
           "xaxis": {
            "backgroundcolor": "#E5ECF6",
            "gridcolor": "white",
            "gridwidth": 2,
            "linecolor": "white",
            "showbackground": true,
            "ticks": "",
            "zerolinecolor": "white"
           },
           "yaxis": {
            "backgroundcolor": "#E5ECF6",
            "gridcolor": "white",
            "gridwidth": 2,
            "linecolor": "white",
            "showbackground": true,
            "ticks": "",
            "zerolinecolor": "white"
           },
           "zaxis": {
            "backgroundcolor": "#E5ECF6",
            "gridcolor": "white",
            "gridwidth": 2,
            "linecolor": "white",
            "showbackground": true,
            "ticks": "",
            "zerolinecolor": "white"
           }
          },
          "shapedefaults": {
           "line": {
            "color": "#2a3f5f"
           }
          },
          "ternary": {
           "aaxis": {
            "gridcolor": "white",
            "linecolor": "white",
            "ticks": ""
           },
           "baxis": {
            "gridcolor": "white",
            "linecolor": "white",
            "ticks": ""
           },
           "bgcolor": "#E5ECF6",
           "caxis": {
            "gridcolor": "white",
            "linecolor": "white",
            "ticks": ""
           }
          },
          "title": {
           "x": 0.05
          },
          "xaxis": {
           "automargin": true,
           "gridcolor": "white",
           "linecolor": "white",
           "ticks": "",
           "title": {
            "standoff": 15
           },
           "zerolinecolor": "white",
           "zerolinewidth": 2
          },
          "yaxis": {
           "automargin": true,
           "gridcolor": "white",
           "linecolor": "white",
           "ticks": "",
           "title": {
            "standoff": 15
           },
           "zerolinecolor": "white",
           "zerolinewidth": 2
          }
         }
        },
        "title": {
         "text": "Distribution of Age for all genders"
        },
        "xaxis": {
         "anchor": "y",
         "domain": [
          0,
          1
         ],
         "title": {
          "text": "Age"
         }
        },
        "yaxis": {
         "anchor": "x",
         "domain": [
          0,
          1
         ],
         "title": {
          "text": "count"
         }
        }
       }
      }
     },
     "metadata": {},
     "output_type": "display_data"
    }
   ],
   "source": [
    "fig.show()"
   ]
  },
  {
   "attachments": {},
   "cell_type": "markdown",
   "metadata": {},
   "source": [
    "### Age and Yearly Salary"
   ]
  },
  {
   "cell_type": "code",
   "execution_count": 25,
   "metadata": {},
   "outputs": [
    {
     "data": {
      "application/vnd.plotly.v1+json": {
       "config": {
        "plotlyServerURL": "https://plot.ly"
       },
       "data": [
        {
         "mode": "markers",
         "type": "scatter",
         "x": [
          26,
          26,
          29,
          37,
          32,
          24,
          29,
          35,
          32,
          28,
          31,
          29,
          41,
          27,
          34,
          34,
          34,
          59,
          36,
          38,
          24,
          37,
          29,
          39,
          33,
          28,
          30,
          28,
          38,
          29,
          49,
          32,
          33,
          30,
          48,
          32,
          38,
          31,
          35,
          28,
          29,
          32,
          44,
          35,
          29,
          66,
          39,
          28,
          34,
          34,
          32,
          32,
          45,
          28,
          29,
          36,
          39,
          29,
          31,
          30,
          27,
          26,
          26,
          31,
          30,
          38,
          43,
          33,
          32,
          24,
          29,
          29,
          30,
          35,
          28,
          31,
          32,
          30,
          26,
          31,
          38,
          37,
          25,
          36,
          27,
          35,
          37,
          26,
          33,
          33,
          24,
          28,
          30,
          31,
          28,
          28,
          33,
          41,
          37,
          30,
          36,
          40,
          37,
          35,
          42,
          34,
          30,
          34,
          35,
          31,
          35,
          25,
          40,
          36,
          33,
          38,
          33,
          34,
          32,
          31,
          28,
          46,
          31,
          40,
          46,
          33,
          33,
          34,
          36,
          33,
          32,
          46,
          31,
          46,
          26,
          31,
          30,
          35,
          33,
          36,
          36,
          38,
          32,
          29,
          30,
          35,
          29,
          32,
          30,
          43,
          38,
          26,
          34,
          30,
          34,
          36,
          45,
          32,
          24,
          25,
          29,
          32,
          30,
          26,
          31,
          33,
          26,
          30,
          34,
          37,
          28,
          35,
          31,
          39,
          31,
          39,
          29,
          33,
          31,
          37,
          34,
          30,
          34,
          33,
          43,
          32,
          34,
          29,
          37,
          41,
          33,
          33,
          40,
          38,
          29,
          39,
          33,
          38,
          42,
          38,
          29,
          30,
          32,
          41,
          34,
          45,
          34,
          32,
          65,
          33,
          34,
          30,
          35,
          35,
          34,
          34,
          38,
          34,
          31,
          34,
          29,
          37,
          44,
          30,
          26,
          46,
          33,
          27,
          38,
          36,
          29,
          29,
          33,
          34,
          31,
          33,
          47,
          29,
          28,
          25,
          45,
          40,
          27,
          27,
          38,
          30,
          29,
          37,
          28,
          28,
          33,
          38,
          40,
          29,
          44,
          35,
          41,
          32,
          46,
          32,
          34,
          26,
          41,
          35,
          24,
          35,
          31,
          37,
          30,
          33,
          37,
          36,
          32,
          38,
          23,
          39,
          27,
          50,
          35,
          30,
          24,
          28,
          37,
          33,
          30,
          31,
          28,
          31,
          34,
          24,
          39,
          42,
          26,
          32,
          27,
          27,
          32,
          31,
          29,
          38,
          25,
          24,
          27,
          34,
          30,
          27,
          46,
          42,
          40,
          30,
          40,
          28,
          38,
          32,
          33,
          35,
          37,
          33,
          36,
          27,
          28,
          31,
          34,
          29,
          38,
          23,
          30,
          32,
          28,
          31,
          29,
          40,
          42,
          40,
          27,
          29,
          37,
          35,
          39,
          38,
          31,
          30,
          33,
          31,
          33,
          43,
          36,
          33,
          36,
          27,
          33,
          33,
          40,
          40,
          37,
          39,
          25,
          28,
          36,
          29,
          28,
          39,
          37,
          32,
          28,
          35,
          26,
          29,
          36,
          26,
          28,
          40,
          29,
          32,
          28,
          27,
          33,
          34,
          31,
          31,
          31,
          27,
          31,
          29,
          35,
          31,
          32,
          35,
          28,
          30,
          30,
          26,
          25,
          27,
          37,
          33,
          38,
          31,
          26,
          29,
          22,
          30,
          30,
          28,
          36,
          32,
          30,
          29,
          32,
          34,
          30,
          40,
          35,
          31,
          38,
          39,
          35,
          36,
          41,
          41,
          33,
          31,
          34,
          45,
          37,
          31,
          32,
          45,
          36,
          40,
          35,
          37,
          33,
          33,
          31,
          28,
          31,
          40,
          25,
          35,
          35,
          41,
          33,
          33,
          38,
          35,
          36,
          49,
          32,
          32,
          27,
          31,
          28,
          28,
          27,
          29,
          32,
          28,
          38,
          29,
          30,
          31,
          37,
          32,
          40,
          30,
          30,
          32,
          32,
          34,
          43,
          33,
          28,
          33,
          51,
          35,
          25,
          25,
          32,
          32,
          26,
          25,
          27,
          28,
          28,
          35,
          38,
          36,
          31,
          43,
          38,
          35,
          43,
          37,
          30,
          29,
          41,
          38,
          35,
          41,
          29,
          26,
          35,
          32,
          33,
          26,
          22,
          43,
          35,
          28,
          36,
          38,
          30,
          42,
          30,
          28,
          32,
          35,
          33,
          25,
          42,
          40,
          39,
          24,
          24,
          39,
          33,
          29,
          32,
          34,
          30,
          31,
          33,
          31,
          36,
          39,
          34,
          26,
          42,
          31,
          33,
          28,
          33,
          35,
          35,
          38,
          30,
          28,
          32,
          31,
          33,
          30,
          39,
          37,
          42,
          28,
          31,
          34,
          38,
          35,
          37,
          37,
          34,
          35,
          37,
          33,
          26,
          46,
          30,
          34,
          35,
          31,
          24,
          28,
          30,
          37,
          39,
          26,
          30,
          44,
          26,
          26,
          38,
          40,
          28,
          30,
          28,
          29,
          29,
          29,
          27,
          36,
          37,
          35,
          36,
          33,
          30,
          35,
          36,
          34,
          34,
          31,
          33,
          31,
          33,
          36,
          31,
          30,
          32,
          34,
          35,
          33,
          39,
          39,
          25,
          34,
          38,
          34,
          36,
          30,
          27,
          30,
          38,
          34,
          29,
          36,
          43,
          36,
          38,
          26,
          26,
          34,
          30,
          35,
          26,
          30,
          33,
          26,
          23,
          41,
          28,
          35,
          26,
          30,
          24,
          35,
          27,
          31,
          27,
          29,
          29,
          34,
          35,
          54,
          31,
          36,
          28,
          36,
          26,
          36,
          33,
          35,
          36,
          35,
          29,
          29,
          32,
          30,
          30,
          30,
          30,
          31,
          28,
          29,
          34,
          34,
          40,
          29,
          27,
          38,
          32,
          37,
          29,
          40,
          39,
          32,
          30,
          32,
          25,
          30,
          32,
          39,
          38,
          22,
          32,
          30,
          34,
          36,
          28,
          28,
          35,
          23,
          28,
          36,
          30,
          30,
          28,
          29,
          26,
          26,
          31,
          34,
          36,
          40,
          31,
          36,
          30,
          35,
          30,
          28,
          42,
          34,
          36,
          31,
          32,
          32,
          36,
          26,
          28,
          34,
          38,
          37,
          31,
          38,
          24,
          25,
          33,
          39,
          30,
          45,
          45,
          35,
          31,
          25,
          37,
          27,
          32,
          28,
          35,
          36,
          32,
          22,
          33,
          35,
          32,
          30,
          40,
          27,
          32,
          33,
          31,
          30,
          32,
          34,
          29,
          29,
          30,
          35,
          27,
          38,
          34,
          35,
          35,
          29,
          35,
          31,
          34,
          42,
          37,
          32,
          26,
          35,
          43,
          41,
          33,
          44,
          28,
          34,
          28,
          26,
          39,
          32,
          27,
          32,
          56,
          30,
          27,
          27,
          28,
          32,
          35,
          32,
          30,
          36,
          33,
          32,
          34,
          54,
          28,
          28,
          38,
          36,
          36,
          33,
          33,
          36,
          31,
          36,
          37,
          30,
          30,
          27,
          33,
          35,
          26,
          29,
          31,
          36,
          29,
          30,
          30,
          29,
          34,
          30,
          34,
          27,
          35,
          44,
          34,
          45,
          31,
          24,
          34,
          28,
          35,
          33,
          39,
          37,
          38,
          31,
          32,
          32,
          28,
          38,
          34,
          31,
          33,
          39,
          26,
          26
         ],
         "y": [
          80000,
          80000,
          120000,
          62000,
          76000,
          65000,
          56000,
          95000,
          52500,
          75000,
          75000,
          60350,
          78000,
          60000,
          80000,
          103000,
          100000,
          69000,
          70000,
          80000,
          75000,
          47400,
          85000,
          80000,
          150000,
          45000,
          80000,
          75000,
          70000,
          72000,
          67000,
          105000,
          88000,
          74000,
          75000,
          77000,
          70000,
          76000,
          75000,
          45000,
          60000,
          65000,
          68000,
          65000,
          75000,
          70000,
          70500,
          72000,
          73500,
          72000,
          62000,
          110000,
          93000,
          55000,
          53000,
          55000,
          75000,
          80000,
          80000,
          70200,
          78000,
          60000,
          85000,
          60000,
          72000,
          68500,
          72000,
          65000,
          61000,
          73000,
          78000,
          81000,
          75000,
          55000,
          80000,
          80000,
          60000,
          80000,
          78000,
          68000,
          62000,
          55000,
          62000,
          72000,
          58000,
          120000,
          75000,
          65000,
          85000,
          65000,
          79000,
          65000,
          75000,
          80000,
          57000,
          65000,
          63000,
          72000,
          62000,
          78000,
          69000,
          54000,
          62000,
          80000,
          80000,
          75000,
          75000,
          120000,
          70000,
          68000,
          66000,
          60000,
          54000,
          62000,
          75000,
          55000,
          62000,
          77500,
          68500,
          71060,
          70000,
          82000,
          90000,
          85000,
          70000,
          66000,
          62000,
          95000,
          65000,
          50000,
          80000,
          80000,
          115000,
          85000,
          70000,
          85000,
          50000,
          140000,
          120000,
          42000,
          105000,
          68000,
          70000,
          70000,
          63000,
          96000,
          64000,
          60000,
          65000,
          79000,
          65000,
          63000,
          95000,
          58000,
          65000,
          69000,
          77000,
          60000,
          48000,
          60000,
          65000,
          60000,
          100000,
          65000,
          65000,
          100000,
          58000,
          70000,
          72000,
          90000,
          61200,
          80000,
          60000,
          56000,
          32000,
          108000,
          95000,
          67000,
          81000,
          72000,
          72000,
          42000,
          95000,
          67000,
          64000,
          52000,
          60000,
          85000,
          84000,
          123600,
          49000,
          57000,
          78000,
          70000,
          57000,
          120000,
          58000,
          92000,
          80000,
          73000,
          62000,
          55000,
          90000,
          80000,
          85000,
          75000,
          62000,
          66800,
          55000,
          70000,
          90000,
          72000,
          63500,
          70000,
          68000,
          78000,
          89570,
          78000,
          80000,
          70000,
          67000,
          85000,
          76000,
          66000,
          65000,
          80000,
          68000,
          46000,
          56400,
          70000,
          75000,
          55000,
          75000,
          76000,
          20000,
          78000,
          46000,
          65000,
          67000,
          48000,
          70000,
          60000,
          71000,
          65000,
          44000,
          90000,
          73000,
          67500,
          66000,
          55000,
          75000,
          54500,
          72000,
          85000,
          78500,
          56000,
          68000,
          83000,
          68500,
          72000,
          80000,
          24000,
          95500,
          72000,
          77600,
          95000,
          50400,
          130000,
          14712,
          70000,
          70000,
          82000,
          85000,
          80000,
          70500,
          75000,
          58000,
          28800,
          66000,
          75000,
          44000,
          60000,
          76900,
          85000,
          27000,
          95000,
          60000,
          58000,
          72000,
          46000,
          70000,
          75000,
          105000,
          63000,
          62000,
          90000,
          88000,
          81000,
          18700,
          70000,
          100000,
          30000,
          21120,
          67500,
          48000,
          64000,
          90000,
          47500,
          57000,
          50000,
          75000,
          45000,
          83000,
          66300,
          65000,
          60000,
          60000,
          100000,
          79300,
          48000,
          60000,
          57000,
          60000,
          65000,
          80000,
          60000,
          75000,
          85000,
          47000,
          62000,
          56000,
          50000,
          75000,
          90000,
          82000,
          75000,
          156000,
          77000,
          180000,
          100000,
          70000,
          70000,
          100000,
          80000,
          54000,
          72000,
          78000,
          60000,
          60000,
          50000,
          120000,
          62000,
          60000,
          81000,
          70000,
          70000,
          63700,
          70000,
          48000,
          66000,
          65000,
          122000,
          69200,
          72000,
          57000,
          84000,
          59000,
          68000,
          88000,
          71000,
          65000,
          160000,
          37500,
          65000,
          56000,
          80000,
          83000,
          76500,
          60000,
          79000,
          90000,
          82000,
          50000,
          78000,
          75000,
          115000,
          65000,
          75000,
          36000,
          76000,
          90000,
          54000,
          65000,
          66000,
          62000,
          154000,
          200000,
          78000,
          45000,
          43000,
          39000,
          73000,
          74000,
          86000,
          40000,
          85000,
          56000,
          70000,
          68000,
          70000,
          72000,
          80000,
          77000,
          77000,
          56000,
          80000,
          90000,
          98000,
          93000,
          100000,
          75000,
          63000,
          85000,
          55000,
          78000,
          99000,
          90000,
          52000,
          75000,
          85000,
          63000,
          102000,
          95000,
          78600,
          67000,
          42000,
          53000,
          250000,
          53000,
          77000,
          80000,
          58800,
          75000,
          85000,
          70000,
          78000,
          75000,
          57000,
          120000,
          75000,
          63000,
          60000,
          44000,
          54500,
          90000,
          82500,
          75000,
          60000,
          85000,
          54000,
          65000,
          76000,
          65000,
          85000,
          90000,
          86000,
          60000,
          81000,
          60000,
          74000,
          57600,
          70000,
          75000,
          90000,
          60000,
          90000,
          44000,
          12000,
          80000,
          73000,
          120000,
          71750,
          65000,
          80000,
          66000,
          65000,
          130000,
          85000,
          45000,
          82000,
          100000,
          72000,
          83000,
          77000,
          71000,
          65000,
          120000,
          43000,
          63000,
          75000,
          22000,
          65000,
          51000,
          70000,
          70000,
          51000,
          159000,
          105000,
          50000,
          72000,
          55000,
          66000,
          79000,
          42000,
          74000,
          67000,
          74000,
          103000,
          74000,
          86000,
          46000,
          135000,
          75000,
          50000,
          29000,
          78000,
          75000,
          55000,
          36000,
          56000,
          85000,
          80000,
          75000,
          57000,
          65000,
          87000,
          80000,
          60000,
          850000,
          60000,
          80000,
          83000,
          42000,
          68000,
          100000,
          75000,
          70000,
          75000,
          90000,
          110000,
          110000,
          68000,
          93000,
          80000,
          65000,
          65000,
          60000,
          60000,
          80000,
          85000,
          73000,
          90000,
          80000,
          85000,
          54000,
          77000,
          33000,
          70000,
          80000,
          65000,
          85000,
          80000,
          60000,
          90000,
          45000,
          80000,
          130000,
          40000,
          80000,
          75000,
          180000,
          48000,
          65000,
          90000,
          50000,
          51000,
          52800,
          61500,
          78000,
          500000000,
          42000,
          150000,
          84000,
          49000,
          70000,
          70000,
          115000,
          40000,
          81500,
          75000,
          94000,
          100000,
          67000,
          77000,
          90000,
          64000,
          67473,
          100000,
          65000,
          91000,
          60000,
          79000,
          65000,
          108000,
          45000,
          66000,
          64000,
          105000,
          83000,
          52000,
          74000,
          85000,
          92000,
          100000,
          77250,
          60000,
          70000,
          74000,
          70000,
          25000,
          48000,
          90000,
          65000,
          50400,
          69000,
          48000,
          58000,
          70000,
          49200,
          50000,
          43000,
          77000,
          21000,
          40000,
          64000,
          90000,
          25300,
          80000,
          85600,
          55200,
          92000,
          96000,
          85000,
          110000,
          90000,
          172000,
          25000,
          63000,
          72000,
          65000,
          83000,
          200000,
          58000,
          50000,
          75000,
          140000,
          80000,
          49000,
          50000,
          59000,
          52500,
          83000,
          50000,
          75000,
          54000,
          70000,
          88000,
          57750,
          45000,
          74000,
          82000,
          82000,
          64800,
          72000,
          82000,
          80000,
          77000,
          80000,
          53500,
          90000,
          65000,
          62400,
          90000,
          35000,
          62000,
          60000,
          65600,
          80000,
          53000,
          78000,
          100000,
          36000,
          65000,
          100000,
          60000,
          60000,
          100000,
          66000,
          64000,
          55000,
          74000,
          60000,
          90000,
          65000,
          75000,
          120000,
          58000,
          75000,
          71000,
          50000,
          66000,
          95000,
          87000,
          68000,
          54000,
          83000,
          110000,
          93000,
          73700,
          85000,
          87550,
          80000,
          65000,
          40700,
          48000,
          60000,
          47745,
          60000,
          60000,
          90000,
          90000,
          98000,
          69000,
          49850,
          65000,
          73000,
          37500,
          65000,
          42000,
          85000,
          70000,
          45000,
          100000,
          68000,
          50400,
          55000,
          90000,
          75000,
          80000,
          61000,
          50000,
          69000,
          75000,
          74000,
          65000,
          65000,
          85000,
          60000,
          68000,
          45500,
          72000,
          67000,
          85000,
          82000,
          85000,
          60000,
          84000,
          80000,
          46000,
          75000,
          40000,
          100000,
          115000,
          99000,
          90000,
          72000,
          54000,
          45000,
          45000,
          60000,
          75000,
          92000,
          17500,
          63000,
          110000,
          60000,
          70000,
          40000,
          62000,
          90000,
          60000,
          72500,
          85000,
          62500,
          85000,
          95000,
          75000,
          75000,
          30000,
          64000,
          110000,
          70000,
          68000,
          100000,
          70200,
          75000,
          85000,
          66000,
          90000,
          58000,
          90000,
          35000,
          47500,
          65000,
          72000,
          73000,
          50000,
          68000,
          70000,
          57600,
          68000,
          75000,
          95000,
          82000,
          90000,
          52000,
          100000,
          95000,
          55000,
          200000,
          85000,
          68250,
          63000,
          63000,
          75000,
          60000,
          76000,
          84700,
          95000,
          50500,
          130000,
          95000,
          55000,
          90000,
          108500,
          70000,
          60000,
          110000,
          38350,
          65000
         ]
        }
       ],
       "layout": {
        "template": {
         "data": {
          "bar": [
           {
            "error_x": {
             "color": "#2a3f5f"
            },
            "error_y": {
             "color": "#2a3f5f"
            },
            "marker": {
             "line": {
              "color": "#E5ECF6",
              "width": 0.5
             },
             "pattern": {
              "fillmode": "overlay",
              "size": 10,
              "solidity": 0.2
             }
            },
            "type": "bar"
           }
          ],
          "barpolar": [
           {
            "marker": {
             "line": {
              "color": "#E5ECF6",
              "width": 0.5
             },
             "pattern": {
              "fillmode": "overlay",
              "size": 10,
              "solidity": 0.2
             }
            },
            "type": "barpolar"
           }
          ],
          "carpet": [
           {
            "aaxis": {
             "endlinecolor": "#2a3f5f",
             "gridcolor": "white",
             "linecolor": "white",
             "minorgridcolor": "white",
             "startlinecolor": "#2a3f5f"
            },
            "baxis": {
             "endlinecolor": "#2a3f5f",
             "gridcolor": "white",
             "linecolor": "white",
             "minorgridcolor": "white",
             "startlinecolor": "#2a3f5f"
            },
            "type": "carpet"
           }
          ],
          "choropleth": [
           {
            "colorbar": {
             "outlinewidth": 0,
             "ticks": ""
            },
            "type": "choropleth"
           }
          ],
          "contour": [
           {
            "colorbar": {
             "outlinewidth": 0,
             "ticks": ""
            },
            "colorscale": [
             [
              0,
              "#0d0887"
             ],
             [
              0.1111111111111111,
              "#46039f"
             ],
             [
              0.2222222222222222,
              "#7201a8"
             ],
             [
              0.3333333333333333,
              "#9c179e"
             ],
             [
              0.4444444444444444,
              "#bd3786"
             ],
             [
              0.5555555555555556,
              "#d8576b"
             ],
             [
              0.6666666666666666,
              "#ed7953"
             ],
             [
              0.7777777777777778,
              "#fb9f3a"
             ],
             [
              0.8888888888888888,
              "#fdca26"
             ],
             [
              1,
              "#f0f921"
             ]
            ],
            "type": "contour"
           }
          ],
          "contourcarpet": [
           {
            "colorbar": {
             "outlinewidth": 0,
             "ticks": ""
            },
            "type": "contourcarpet"
           }
          ],
          "heatmap": [
           {
            "colorbar": {
             "outlinewidth": 0,
             "ticks": ""
            },
            "colorscale": [
             [
              0,
              "#0d0887"
             ],
             [
              0.1111111111111111,
              "#46039f"
             ],
             [
              0.2222222222222222,
              "#7201a8"
             ],
             [
              0.3333333333333333,
              "#9c179e"
             ],
             [
              0.4444444444444444,
              "#bd3786"
             ],
             [
              0.5555555555555556,
              "#d8576b"
             ],
             [
              0.6666666666666666,
              "#ed7953"
             ],
             [
              0.7777777777777778,
              "#fb9f3a"
             ],
             [
              0.8888888888888888,
              "#fdca26"
             ],
             [
              1,
              "#f0f921"
             ]
            ],
            "type": "heatmap"
           }
          ],
          "heatmapgl": [
           {
            "colorbar": {
             "outlinewidth": 0,
             "ticks": ""
            },
            "colorscale": [
             [
              0,
              "#0d0887"
             ],
             [
              0.1111111111111111,
              "#46039f"
             ],
             [
              0.2222222222222222,
              "#7201a8"
             ],
             [
              0.3333333333333333,
              "#9c179e"
             ],
             [
              0.4444444444444444,
              "#bd3786"
             ],
             [
              0.5555555555555556,
              "#d8576b"
             ],
             [
              0.6666666666666666,
              "#ed7953"
             ],
             [
              0.7777777777777778,
              "#fb9f3a"
             ],
             [
              0.8888888888888888,
              "#fdca26"
             ],
             [
              1,
              "#f0f921"
             ]
            ],
            "type": "heatmapgl"
           }
          ],
          "histogram": [
           {
            "marker": {
             "pattern": {
              "fillmode": "overlay",
              "size": 10,
              "solidity": 0.2
             }
            },
            "type": "histogram"
           }
          ],
          "histogram2d": [
           {
            "colorbar": {
             "outlinewidth": 0,
             "ticks": ""
            },
            "colorscale": [
             [
              0,
              "#0d0887"
             ],
             [
              0.1111111111111111,
              "#46039f"
             ],
             [
              0.2222222222222222,
              "#7201a8"
             ],
             [
              0.3333333333333333,
              "#9c179e"
             ],
             [
              0.4444444444444444,
              "#bd3786"
             ],
             [
              0.5555555555555556,
              "#d8576b"
             ],
             [
              0.6666666666666666,
              "#ed7953"
             ],
             [
              0.7777777777777778,
              "#fb9f3a"
             ],
             [
              0.8888888888888888,
              "#fdca26"
             ],
             [
              1,
              "#f0f921"
             ]
            ],
            "type": "histogram2d"
           }
          ],
          "histogram2dcontour": [
           {
            "colorbar": {
             "outlinewidth": 0,
             "ticks": ""
            },
            "colorscale": [
             [
              0,
              "#0d0887"
             ],
             [
              0.1111111111111111,
              "#46039f"
             ],
             [
              0.2222222222222222,
              "#7201a8"
             ],
             [
              0.3333333333333333,
              "#9c179e"
             ],
             [
              0.4444444444444444,
              "#bd3786"
             ],
             [
              0.5555555555555556,
              "#d8576b"
             ],
             [
              0.6666666666666666,
              "#ed7953"
             ],
             [
              0.7777777777777778,
              "#fb9f3a"
             ],
             [
              0.8888888888888888,
              "#fdca26"
             ],
             [
              1,
              "#f0f921"
             ]
            ],
            "type": "histogram2dcontour"
           }
          ],
          "mesh3d": [
           {
            "colorbar": {
             "outlinewidth": 0,
             "ticks": ""
            },
            "type": "mesh3d"
           }
          ],
          "parcoords": [
           {
            "line": {
             "colorbar": {
              "outlinewidth": 0,
              "ticks": ""
             }
            },
            "type": "parcoords"
           }
          ],
          "pie": [
           {
            "automargin": true,
            "type": "pie"
           }
          ],
          "scatter": [
           {
            "fillpattern": {
             "fillmode": "overlay",
             "size": 10,
             "solidity": 0.2
            },
            "type": "scatter"
           }
          ],
          "scatter3d": [
           {
            "line": {
             "colorbar": {
              "outlinewidth": 0,
              "ticks": ""
             }
            },
            "marker": {
             "colorbar": {
              "outlinewidth": 0,
              "ticks": ""
             }
            },
            "type": "scatter3d"
           }
          ],
          "scattercarpet": [
           {
            "marker": {
             "colorbar": {
              "outlinewidth": 0,
              "ticks": ""
             }
            },
            "type": "scattercarpet"
           }
          ],
          "scattergeo": [
           {
            "marker": {
             "colorbar": {
              "outlinewidth": 0,
              "ticks": ""
             }
            },
            "type": "scattergeo"
           }
          ],
          "scattergl": [
           {
            "marker": {
             "colorbar": {
              "outlinewidth": 0,
              "ticks": ""
             }
            },
            "type": "scattergl"
           }
          ],
          "scattermapbox": [
           {
            "marker": {
             "colorbar": {
              "outlinewidth": 0,
              "ticks": ""
             }
            },
            "type": "scattermapbox"
           }
          ],
          "scatterpolar": [
           {
            "marker": {
             "colorbar": {
              "outlinewidth": 0,
              "ticks": ""
             }
            },
            "type": "scatterpolar"
           }
          ],
          "scatterpolargl": [
           {
            "marker": {
             "colorbar": {
              "outlinewidth": 0,
              "ticks": ""
             }
            },
            "type": "scatterpolargl"
           }
          ],
          "scatterternary": [
           {
            "marker": {
             "colorbar": {
              "outlinewidth": 0,
              "ticks": ""
             }
            },
            "type": "scatterternary"
           }
          ],
          "surface": [
           {
            "colorbar": {
             "outlinewidth": 0,
             "ticks": ""
            },
            "colorscale": [
             [
              0,
              "#0d0887"
             ],
             [
              0.1111111111111111,
              "#46039f"
             ],
             [
              0.2222222222222222,
              "#7201a8"
             ],
             [
              0.3333333333333333,
              "#9c179e"
             ],
             [
              0.4444444444444444,
              "#bd3786"
             ],
             [
              0.5555555555555556,
              "#d8576b"
             ],
             [
              0.6666666666666666,
              "#ed7953"
             ],
             [
              0.7777777777777778,
              "#fb9f3a"
             ],
             [
              0.8888888888888888,
              "#fdca26"
             ],
             [
              1,
              "#f0f921"
             ]
            ],
            "type": "surface"
           }
          ],
          "table": [
           {
            "cells": {
             "fill": {
              "color": "#EBF0F8"
             },
             "line": {
              "color": "white"
             }
            },
            "header": {
             "fill": {
              "color": "#C8D4E3"
             },
             "line": {
              "color": "white"
             }
            },
            "type": "table"
           }
          ]
         },
         "layout": {
          "annotationdefaults": {
           "arrowcolor": "#2a3f5f",
           "arrowhead": 0,
           "arrowwidth": 1
          },
          "autotypenumbers": "strict",
          "coloraxis": {
           "colorbar": {
            "outlinewidth": 0,
            "ticks": ""
           }
          },
          "colorscale": {
           "diverging": [
            [
             0,
             "#8e0152"
            ],
            [
             0.1,
             "#c51b7d"
            ],
            [
             0.2,
             "#de77ae"
            ],
            [
             0.3,
             "#f1b6da"
            ],
            [
             0.4,
             "#fde0ef"
            ],
            [
             0.5,
             "#f7f7f7"
            ],
            [
             0.6,
             "#e6f5d0"
            ],
            [
             0.7,
             "#b8e186"
            ],
            [
             0.8,
             "#7fbc41"
            ],
            [
             0.9,
             "#4d9221"
            ],
            [
             1,
             "#276419"
            ]
           ],
           "sequential": [
            [
             0,
             "#0d0887"
            ],
            [
             0.1111111111111111,
             "#46039f"
            ],
            [
             0.2222222222222222,
             "#7201a8"
            ],
            [
             0.3333333333333333,
             "#9c179e"
            ],
            [
             0.4444444444444444,
             "#bd3786"
            ],
            [
             0.5555555555555556,
             "#d8576b"
            ],
            [
             0.6666666666666666,
             "#ed7953"
            ],
            [
             0.7777777777777778,
             "#fb9f3a"
            ],
            [
             0.8888888888888888,
             "#fdca26"
            ],
            [
             1,
             "#f0f921"
            ]
           ],
           "sequentialminus": [
            [
             0,
             "#0d0887"
            ],
            [
             0.1111111111111111,
             "#46039f"
            ],
            [
             0.2222222222222222,
             "#7201a8"
            ],
            [
             0.3333333333333333,
             "#9c179e"
            ],
            [
             0.4444444444444444,
             "#bd3786"
            ],
            [
             0.5555555555555556,
             "#d8576b"
            ],
            [
             0.6666666666666666,
             "#ed7953"
            ],
            [
             0.7777777777777778,
             "#fb9f3a"
            ],
            [
             0.8888888888888888,
             "#fdca26"
            ],
            [
             1,
             "#f0f921"
            ]
           ]
          },
          "colorway": [
           "#636efa",
           "#EF553B",
           "#00cc96",
           "#ab63fa",
           "#FFA15A",
           "#19d3f3",
           "#FF6692",
           "#B6E880",
           "#FF97FF",
           "#FECB52"
          ],
          "font": {
           "color": "#2a3f5f"
          },
          "geo": {
           "bgcolor": "white",
           "lakecolor": "white",
           "landcolor": "#E5ECF6",
           "showlakes": true,
           "showland": true,
           "subunitcolor": "white"
          },
          "hoverlabel": {
           "align": "left"
          },
          "hovermode": "closest",
          "mapbox": {
           "style": "light"
          },
          "paper_bgcolor": "white",
          "plot_bgcolor": "#E5ECF6",
          "polar": {
           "angularaxis": {
            "gridcolor": "white",
            "linecolor": "white",
            "ticks": ""
           },
           "bgcolor": "#E5ECF6",
           "radialaxis": {
            "gridcolor": "white",
            "linecolor": "white",
            "ticks": ""
           }
          },
          "scene": {
           "xaxis": {
            "backgroundcolor": "#E5ECF6",
            "gridcolor": "white",
            "gridwidth": 2,
            "linecolor": "white",
            "showbackground": true,
            "ticks": "",
            "zerolinecolor": "white"
           },
           "yaxis": {
            "backgroundcolor": "#E5ECF6",
            "gridcolor": "white",
            "gridwidth": 2,
            "linecolor": "white",
            "showbackground": true,
            "ticks": "",
            "zerolinecolor": "white"
           },
           "zaxis": {
            "backgroundcolor": "#E5ECF6",
            "gridcolor": "white",
            "gridwidth": 2,
            "linecolor": "white",
            "showbackground": true,
            "ticks": "",
            "zerolinecolor": "white"
           }
          },
          "shapedefaults": {
           "line": {
            "color": "#2a3f5f"
           }
          },
          "ternary": {
           "aaxis": {
            "gridcolor": "white",
            "linecolor": "white",
            "ticks": ""
           },
           "baxis": {
            "gridcolor": "white",
            "linecolor": "white",
            "ticks": ""
           },
           "bgcolor": "#E5ECF6",
           "caxis": {
            "gridcolor": "white",
            "linecolor": "white",
            "ticks": ""
           }
          },
          "title": {
           "x": 0.05
          },
          "xaxis": {
           "automargin": true,
           "gridcolor": "white",
           "linecolor": "white",
           "ticks": "",
           "title": {
            "standoff": 15
           },
           "zerolinecolor": "white",
           "zerolinewidth": 2
          },
          "yaxis": {
           "automargin": true,
           "gridcolor": "white",
           "linecolor": "white",
           "ticks": "",
           "title": {
            "standoff": 15
           },
           "zerolinecolor": "white",
           "zerolinewidth": 2
          }
         }
        },
        "title": {
         "text": "Scatter Plot of Age and Yearly Salary"
        },
        "xaxis": {
         "title": {
          "text": "Age"
         }
        },
        "yaxis": {
         "title": {
          "text": "Yearly Salary"
         }
        }
       }
      }
     },
     "metadata": {},
     "output_type": "display_data"
    }
   ],
   "source": [
    "import plotly.graph_objects as go\n",
    "fig= go.Figure(\n",
    "    data= go.Scatter(\n",
    "        x= salarySurvey2020['Age'],\n",
    "        y= salarySurvey2020['Yearly_salary'],\n",
    "        mode= 'markers'\n",
    "    )\n",
    ")\n",
    "# Customize the plot\n",
    "fig.update_layout(title='Scatter Plot of Age and Yearly Salary', xaxis_title='Age', yaxis_title='Yearly Salary')\n",
    "\n",
    "# Show the plot\n",
    "fig.show()"
   ]
  },
  {
   "attachments": {},
   "cell_type": "markdown",
   "metadata": {},
   "source": [
    "### Removig the outlier"
   ]
  },
  {
   "cell_type": "code",
   "execution_count": null,
   "metadata": {},
   "outputs": [],
   "source": []
  }
 ],
 "metadata": {
  "kernelspec": {
   "display_name": "base",
   "language": "python",
   "name": "python3"
  },
  "language_info": {
   "codemirror_mode": {
    "name": "ipython",
    "version": 3
   },
   "file_extension": ".py",
   "mimetype": "text/x-python",
   "name": "python",
   "nbconvert_exporter": "python",
   "pygments_lexer": "ipython3",
   "version": "3.9.13"
  },
  "orig_nbformat": 4,
  "vscode": {
   "interpreter": {
    "hash": "2a3f8dcd7ca25019d517e804fa1e5b4af9e1214f24e2811112c843b1e4edaaec"
   }
  }
 },
 "nbformat": 4,
 "nbformat_minor": 2
}
